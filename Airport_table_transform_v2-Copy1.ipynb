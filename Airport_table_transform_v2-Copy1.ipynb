{
 "cells": [
  {
   "cell_type": "code",
   "execution_count": 40,
   "id": "a21e6824",
   "metadata": {},
   "outputs": [],
   "source": [
    "# Import tools\n",
    "from splinter import Browser\n",
    "import pandas as pd\n",
    "import numpy as np\n",
    "from webdriver_manager.chrome import ChromeDriverManager"
   ]
  },
  {
   "cell_type": "code",
   "execution_count": 41,
   "id": "0881b7e9",
   "metadata": {},
   "outputs": [],
   "source": [
    "# Create the temporary dataframe\n",
    "temp_df = pd.DataFrame(columns =['ID', 'GPS_Code', 'name', 'continent', 'country', 'region', 'af_type', 'latitude', 'longitude', 'elevation', 'runway_L', 'runway_W', 'freq_count', 'airline_count'])"
   ]
  },
  {
   "cell_type": "code",
   "execution_count": 42,
   "id": "a46ce3c8",
   "metadata": {},
   "outputs": [],
   "source": [
    "# Read HTML table\n",
    "df1 = pd.read_html(\"https://airportdatabase.net/vanuatu/tanna-airport-tah_5012.html\")[0]"
   ]
  },
  {
   "cell_type": "code",
   "execution_count": 43,
   "id": "0a1e78cc",
   "metadata": {},
   "outputs": [],
   "source": [
    "# Rename columns for ease of reading\n",
    "df1.columns = ['Col_1', 'Col_2']"
   ]
  },
  {
   "cell_type": "code",
   "execution_count": 44,
   "id": "1d1b0a26",
   "metadata": {},
   "outputs": [],
   "source": [
    "# Create Name variable\n",
    "df1.loc[0, 'Col_1'] = 'name'\n",
    "df1['Col_2'] = df1['Col_2'].str.replace(' details and information', '')"
   ]
  },
  {
   "cell_type": "code",
   "execution_count": 45,
   "id": "ea01e4ce",
   "metadata": {},
   "outputs": [
    {
     "name": "stderr",
     "output_type": "stream",
     "text": [
      "C:\\Users\\drchr\\anaconda3\\envs\\PythonData\\lib\\site-packages\\ipykernel_launcher.py:2: FutureWarning: The default value of regex will change from True to False in a future version.\n",
      "  \n"
     ]
    }
   ],
   "source": [
    "# Clean text; remove \"ft.\"\n",
    "df1['Col_2'] = df1['Col_2'].str.replace(' ft.', '')"
   ]
  },
  {
   "cell_type": "code",
   "execution_count": 46,
   "id": "3b3b0470",
   "metadata": {},
   "outputs": [],
   "source": [
    "# Clean text; remove colons\n",
    "df1['Col_1'] = df1['Col_1'].str.replace(':', '')"
   ]
  },
  {
   "cell_type": "code",
   "execution_count": 47,
   "id": "42ade206",
   "metadata": {},
   "outputs": [],
   "source": [
    "# Clean text; remove \"iso\"\n",
    "df1['Col_1'] = df1['Col_1'].str.replace('iso ', '')"
   ]
  },
  {
   "cell_type": "code",
   "execution_count": 48,
   "id": "b775b82e",
   "metadata": {},
   "outputs": [],
   "source": [
    "# Clean text; remove \"ISO\"\n",
    "df1['Col_1'] = df1['Col_1'].str.replace('ISO ', '')"
   ]
  },
  {
   "cell_type": "code",
   "execution_count": 49,
   "id": "601102d7",
   "metadata": {},
   "outputs": [],
   "source": [
    "# Clean text; remove \" Code\"\n",
    "df1['Col_1'] = df1['Col_1'].str.replace(' Code', '_Code')"
   ]
  },
  {
   "cell_type": "code",
   "execution_count": 50,
   "id": "1cc757d4",
   "metadata": {},
   "outputs": [],
   "source": [
    "# Remove null row\n",
    "df2 = df1.dropna()"
   ]
  },
  {
   "cell_type": "code",
   "execution_count": 51,
   "id": "5b2b9b8f",
   "metadata": {},
   "outputs": [],
   "source": [
    "# count frequencies and navaids\n",
    "freq_df = df2.loc[df2['Col_2'].str.contains(\"Mhz\")]"
   ]
  },
  {
   "cell_type": "code",
   "execution_count": 52,
   "id": "f7a1ab75",
   "metadata": {},
   "outputs": [],
   "source": [
    "# create freq_count variable\n",
    "freq_count = len(freq_df)"
   ]
  },
  {
   "cell_type": "code",
   "execution_count": 53,
   "id": "72601a20",
   "metadata": {},
   "outputs": [],
   "source": [
    "# create name variable\n",
    "name = df2.loc[df2['Col_1'].str.contains('name')]\n",
    "name2 = name.iloc[0]['Col_2']"
   ]
  },
  {
   "cell_type": "code",
   "execution_count": 54,
   "id": "b50c44fc",
   "metadata": {},
   "outputs": [],
   "source": [
    "# create ID variable\n",
    "ID = df2.loc[df2['Col_1'].str.contains('ident')]\n",
    "ID2 = ID.iloc[0]['Col_2']"
   ]
  },
  {
   "cell_type": "code",
   "execution_count": 55,
   "id": "f5ba53e2",
   "metadata": {},
   "outputs": [],
   "source": [
    "# create type variable\n",
    "af_type = df2.loc[df2['Col_1'].str.contains('type')]\n",
    "af_type2 = af_type.iloc[0]['Col_2']"
   ]
  },
  {
   "cell_type": "code",
   "execution_count": 56,
   "id": "259058f0",
   "metadata": {},
   "outputs": [],
   "source": [
    "# create latitude variable\n",
    "latitude = df2.loc[df2['Col_1'].str.contains('latitude')]\n",
    "latitude2 = latitude.iloc[0]['Col_2']"
   ]
  },
  {
   "cell_type": "code",
   "execution_count": 57,
   "id": "0853f3d5",
   "metadata": {},
   "outputs": [],
   "source": [
    "# create longitude variable\n",
    "longitude = df2.loc[df2['Col_1'].str.contains('longitude')]\n",
    "longitude2 = longitude.iloc[0]['Col_2']"
   ]
  },
  {
   "cell_type": "code",
   "execution_count": 58,
   "id": "0ea2b204",
   "metadata": {},
   "outputs": [],
   "source": [
    "# create elevation variable\n",
    "elevation = df2.loc[df2['Col_1'].str.contains('elevation')]\n",
    "elevation2 = elevation.iloc[0]['Col_2']"
   ]
  },
  {
   "cell_type": "code",
   "execution_count": 59,
   "id": "b088304b",
   "metadata": {},
   "outputs": [],
   "source": [
    "# create continent variable\n",
    "continent = df2.loc[df2['Col_1'].str.contains('continent')]\n",
    "continent2 = continent.iloc[0]['Col_2']"
   ]
  },
  {
   "cell_type": "code",
   "execution_count": 60,
   "id": "fa61bfd5",
   "metadata": {},
   "outputs": [],
   "source": [
    "# create country variable\n",
    "country = df2.loc[df2['Col_1'].str.contains('country')]\n",
    "country2 = country.iloc[0]['Col_2']"
   ]
  },
  {
   "cell_type": "code",
   "execution_count": 61,
   "id": "8c5f9791",
   "metadata": {},
   "outputs": [],
   "source": [
    "# create region variable\n",
    "region = df2.loc[df2['Col_1'].str.contains('Region')]\n",
    "region2 = region.iloc[0]['Col_2']"
   ]
  },
  {
   "cell_type": "code",
   "execution_count": 62,
   "id": "f8e3d4a4",
   "metadata": {},
   "outputs": [],
   "source": [
    "# create GPS_code variable\n",
    "GPS_Code = df2.loc[df2['Col_1'].str.contains('GPS_Code')]\n",
    "GPS_Code2 = GPS_Code.iloc[0]['Col_2']"
   ]
  },
  {
   "cell_type": "code",
   "execution_count": 63,
   "id": "793a621e",
   "metadata": {},
   "outputs": [],
   "source": [
    "# find runway data rows\n",
    "pattern = '[0-9]x[0-9]'\n",
    "runway = df2['Col_2'].str.contains(pattern, na=False)"
   ]
  },
  {
   "cell_type": "code",
   "execution_count": 25,
   "id": "9bf8cd23",
   "metadata": {},
   "outputs": [
    {
     "data": {
      "text/html": [
       "<div>\n",
       "<style scoped>\n",
       "    .dataframe tbody tr th:only-of-type {\n",
       "        vertical-align: middle;\n",
       "    }\n",
       "\n",
       "    .dataframe tbody tr th {\n",
       "        vertical-align: top;\n",
       "    }\n",
       "\n",
       "    .dataframe thead th {\n",
       "        text-align: right;\n",
       "    }\n",
       "</style>\n",
       "<table border=\"1\" class=\"dataframe\">\n",
       "  <thead>\n",
       "    <tr style=\"text-align: right;\">\n",
       "      <th></th>\n",
       "      <th>Col_1</th>\n",
       "      <th>Col_2</th>\n",
       "      <th>Col_2</th>\n",
       "    </tr>\n",
       "  </thead>\n",
       "  <tbody>\n",
       "    <tr>\n",
       "      <th>0</th>\n",
       "      <td>name</td>\n",
       "      <td>Tanna Airport</td>\n",
       "      <td>False</td>\n",
       "    </tr>\n",
       "    <tr>\n",
       "      <th>1</th>\n",
       "      <td>ident</td>\n",
       "      <td>NVVW</td>\n",
       "      <td>False</td>\n",
       "    </tr>\n",
       "    <tr>\n",
       "      <th>2</th>\n",
       "      <td>type</td>\n",
       "      <td>medium airport</td>\n",
       "      <td>False</td>\n",
       "    </tr>\n",
       "    <tr>\n",
       "      <th>4</th>\n",
       "      <td>latitude</td>\n",
       "      <td>-19.45509910583496</td>\n",
       "      <td>False</td>\n",
       "    </tr>\n",
       "    <tr>\n",
       "      <th>5</th>\n",
       "      <td>longitude</td>\n",
       "      <td>169.22399902343750</td>\n",
       "      <td>False</td>\n",
       "    </tr>\n",
       "    <tr>\n",
       "      <th>6</th>\n",
       "      <td>elevation</td>\n",
       "      <td>19</td>\n",
       "      <td>False</td>\n",
       "    </tr>\n",
       "    <tr>\n",
       "      <th>7</th>\n",
       "      <td>continent</td>\n",
       "      <td>Oceania (OC)</td>\n",
       "      <td>False</td>\n",
       "    </tr>\n",
       "    <tr>\n",
       "      <th>8</th>\n",
       "      <td>country</td>\n",
       "      <td>Vanuatu (VU)</td>\n",
       "      <td>False</td>\n",
       "    </tr>\n",
       "    <tr>\n",
       "      <th>9</th>\n",
       "      <td>Region</td>\n",
       "      <td>Tafea (VU-TAE)</td>\n",
       "      <td>False</td>\n",
       "    </tr>\n",
       "    <tr>\n",
       "      <th>10</th>\n",
       "      <td>Scheduled Service</td>\n",
       "      <td>yes</td>\n",
       "      <td>False</td>\n",
       "    </tr>\n",
       "    <tr>\n",
       "      <th>11</th>\n",
       "      <td>GPS_Code</td>\n",
       "      <td>NVVW</td>\n",
       "      <td>False</td>\n",
       "    </tr>\n",
       "    <tr>\n",
       "      <th>12</th>\n",
       "      <td>IATA_Code</td>\n",
       "      <td>TAH</td>\n",
       "      <td>False</td>\n",
       "    </tr>\n",
       "    <tr>\n",
       "      <th>13</th>\n",
       "      <td>wikipedia link</td>\n",
       "      <td>Tanna Airport in Wikipedia</td>\n",
       "      <td>False</td>\n",
       "    </tr>\n",
       "    <tr>\n",
       "      <th>14</th>\n",
       "      <td>Tanna Airport runways</td>\n",
       "      <td>Tanna Airport runways</td>\n",
       "      <td>False</td>\n",
       "    </tr>\n",
       "    <tr>\n",
       "      <th>15</th>\n",
       "      <td>15/33</td>\n",
       "      <td>4035x98</td>\n",
       "      <td>True</td>\n",
       "    </tr>\n",
       "    <tr>\n",
       "      <th>16</th>\n",
       "      <td>Tanna Airport frequencies</td>\n",
       "      <td>Tanna Airport frequencies</td>\n",
       "      <td>False</td>\n",
       "    </tr>\n",
       "    <tr>\n",
       "      <th>17</th>\n",
       "      <td>AFIS ( VILA FLT SVC )</td>\n",
       "      <td>655.3 Mhz</td>\n",
       "      <td>False</td>\n",
       "    </tr>\n",
       "    <tr>\n",
       "      <th>18</th>\n",
       "      <td>CTAF ( CTAF )</td>\n",
       "      <td>120.7 Mhz</td>\n",
       "      <td>False</td>\n",
       "    </tr>\n",
       "    <tr>\n",
       "      <th>19</th>\n",
       "      <td>Tanna Airport navaids</td>\n",
       "      <td>Tanna Airport navaids</td>\n",
       "      <td>False</td>\n",
       "    </tr>\n",
       "    <tr>\n",
       "      <th>20</th>\n",
       "      <td>White Grass ( WG )</td>\n",
       "      <td>398 Mhz</td>\n",
       "      <td>False</td>\n",
       "    </tr>\n",
       "    <tr>\n",
       "      <th>21</th>\n",
       "      <td>Airlines flying from/to Tanna Airport</td>\n",
       "      <td>Airlines flying from/to Tanna Airport</td>\n",
       "      <td>False</td>\n",
       "    </tr>\n",
       "    <tr>\n",
       "      <th>22</th>\n",
       "      <td>Air Vanuatu (NF) ,</td>\n",
       "      <td>Air Vanuatu (NF) ,</td>\n",
       "      <td>False</td>\n",
       "    </tr>\n",
       "  </tbody>\n",
       "</table>\n",
       "</div>"
      ],
      "text/plain": [
       "                                    Col_1  \\\n",
       "0                                    name   \n",
       "1                                   ident   \n",
       "2                                    type   \n",
       "4                                latitude   \n",
       "5                               longitude   \n",
       "6                               elevation   \n",
       "7                               continent   \n",
       "8                                 country   \n",
       "9                                  Region   \n",
       "10                      Scheduled Service   \n",
       "11                               GPS_Code   \n",
       "12                              IATA_Code   \n",
       "13                         wikipedia link   \n",
       "14                  Tanna Airport runways   \n",
       "15                                  15/33   \n",
       "16              Tanna Airport frequencies   \n",
       "17                  AFIS ( VILA FLT SVC )   \n",
       "18                          CTAF ( CTAF )   \n",
       "19                  Tanna Airport navaids   \n",
       "20                     White Grass ( WG )   \n",
       "21  Airlines flying from/to Tanna Airport   \n",
       "22                     Air Vanuatu (NF) ,   \n",
       "\n",
       "                                    Col_2  Col_2  \n",
       "0                           Tanna Airport  False  \n",
       "1                                    NVVW  False  \n",
       "2                          medium airport  False  \n",
       "4                      -19.45509910583496  False  \n",
       "5                      169.22399902343750  False  \n",
       "6                                      19  False  \n",
       "7                            Oceania (OC)  False  \n",
       "8                            Vanuatu (VU)  False  \n",
       "9                          Tafea (VU-TAE)  False  \n",
       "10                                    yes  False  \n",
       "11                                   NVVW  False  \n",
       "12                                    TAH  False  \n",
       "13             Tanna Airport in Wikipedia  False  \n",
       "14                  Tanna Airport runways  False  \n",
       "15                                4035x98   True  \n",
       "16              Tanna Airport frequencies  False  \n",
       "17                              655.3 Mhz  False  \n",
       "18                              120.7 Mhz  False  \n",
       "19                  Tanna Airport navaids  False  \n",
       "20                                398 Mhz  False  \n",
       "21  Airlines flying from/to Tanna Airport  False  \n",
       "22                     Air Vanuatu (NF) ,  False  "
      ]
     },
     "execution_count": 25,
     "metadata": {},
     "output_type": "execute_result"
    }
   ],
   "source": [
    "# tag runway data rows in table w/\"True\"\n",
    "runway_B = pd.concat([df2, runway], axis=1)\n",
    "runway_B"
   ]
  },
  {
   "cell_type": "code",
   "execution_count": 64,
   "id": "b6a18027",
   "metadata": {},
   "outputs": [
    {
     "data": {
      "text/html": [
       "<div>\n",
       "<style scoped>\n",
       "    .dataframe tbody tr th:only-of-type {\n",
       "        vertical-align: middle;\n",
       "    }\n",
       "\n",
       "    .dataframe tbody tr th {\n",
       "        vertical-align: top;\n",
       "    }\n",
       "\n",
       "    .dataframe thead th {\n",
       "        text-align: right;\n",
       "    }\n",
       "</style>\n",
       "<table border=\"1\" class=\"dataframe\">\n",
       "  <thead>\n",
       "    <tr style=\"text-align: right;\">\n",
       "      <th></th>\n",
       "      <th>Col_1</th>\n",
       "      <th>Col_2</th>\n",
       "      <th>Col_3</th>\n",
       "    </tr>\n",
       "  </thead>\n",
       "  <tbody>\n",
       "    <tr>\n",
       "      <th>0</th>\n",
       "      <td>name</td>\n",
       "      <td>Tanna Airport</td>\n",
       "      <td>False</td>\n",
       "    </tr>\n",
       "    <tr>\n",
       "      <th>1</th>\n",
       "      <td>ident</td>\n",
       "      <td>NVVW</td>\n",
       "      <td>False</td>\n",
       "    </tr>\n",
       "    <tr>\n",
       "      <th>2</th>\n",
       "      <td>type</td>\n",
       "      <td>medium airport</td>\n",
       "      <td>False</td>\n",
       "    </tr>\n",
       "    <tr>\n",
       "      <th>4</th>\n",
       "      <td>latitude</td>\n",
       "      <td>-19.45509910583496</td>\n",
       "      <td>False</td>\n",
       "    </tr>\n",
       "    <tr>\n",
       "      <th>5</th>\n",
       "      <td>longitude</td>\n",
       "      <td>169.22399902343750</td>\n",
       "      <td>False</td>\n",
       "    </tr>\n",
       "    <tr>\n",
       "      <th>6</th>\n",
       "      <td>elevation</td>\n",
       "      <td>19</td>\n",
       "      <td>False</td>\n",
       "    </tr>\n",
       "    <tr>\n",
       "      <th>7</th>\n",
       "      <td>continent</td>\n",
       "      <td>Oceania (OC)</td>\n",
       "      <td>False</td>\n",
       "    </tr>\n",
       "    <tr>\n",
       "      <th>8</th>\n",
       "      <td>country</td>\n",
       "      <td>Vanuatu (VU)</td>\n",
       "      <td>False</td>\n",
       "    </tr>\n",
       "    <tr>\n",
       "      <th>9</th>\n",
       "      <td>Region</td>\n",
       "      <td>Tafea (VU-TAE)</td>\n",
       "      <td>False</td>\n",
       "    </tr>\n",
       "    <tr>\n",
       "      <th>10</th>\n",
       "      <td>Scheduled Service</td>\n",
       "      <td>yes</td>\n",
       "      <td>False</td>\n",
       "    </tr>\n",
       "    <tr>\n",
       "      <th>11</th>\n",
       "      <td>GPS_Code</td>\n",
       "      <td>NVVW</td>\n",
       "      <td>False</td>\n",
       "    </tr>\n",
       "    <tr>\n",
       "      <th>12</th>\n",
       "      <td>IATA_Code</td>\n",
       "      <td>TAH</td>\n",
       "      <td>False</td>\n",
       "    </tr>\n",
       "    <tr>\n",
       "      <th>13</th>\n",
       "      <td>wikipedia link</td>\n",
       "      <td>Tanna Airport in Wikipedia</td>\n",
       "      <td>False</td>\n",
       "    </tr>\n",
       "    <tr>\n",
       "      <th>14</th>\n",
       "      <td>Tanna Airport runways</td>\n",
       "      <td>Tanna Airport runways</td>\n",
       "      <td>False</td>\n",
       "    </tr>\n",
       "    <tr>\n",
       "      <th>15</th>\n",
       "      <td>15/33</td>\n",
       "      <td>4035x98</td>\n",
       "      <td>True</td>\n",
       "    </tr>\n",
       "    <tr>\n",
       "      <th>16</th>\n",
       "      <td>Tanna Airport frequencies</td>\n",
       "      <td>Tanna Airport frequencies</td>\n",
       "      <td>False</td>\n",
       "    </tr>\n",
       "    <tr>\n",
       "      <th>17</th>\n",
       "      <td>AFIS ( VILA FLT SVC )</td>\n",
       "      <td>655.3 Mhz</td>\n",
       "      <td>False</td>\n",
       "    </tr>\n",
       "    <tr>\n",
       "      <th>18</th>\n",
       "      <td>CTAF ( CTAF )</td>\n",
       "      <td>120.7 Mhz</td>\n",
       "      <td>False</td>\n",
       "    </tr>\n",
       "    <tr>\n",
       "      <th>19</th>\n",
       "      <td>Tanna Airport navaids</td>\n",
       "      <td>Tanna Airport navaids</td>\n",
       "      <td>False</td>\n",
       "    </tr>\n",
       "    <tr>\n",
       "      <th>20</th>\n",
       "      <td>White Grass ( WG )</td>\n",
       "      <td>398 Mhz</td>\n",
       "      <td>False</td>\n",
       "    </tr>\n",
       "    <tr>\n",
       "      <th>21</th>\n",
       "      <td>Airlines flying from/to Tanna Airport</td>\n",
       "      <td>Airlines flying from/to Tanna Airport</td>\n",
       "      <td>False</td>\n",
       "    </tr>\n",
       "    <tr>\n",
       "      <th>22</th>\n",
       "      <td>Air Vanuatu (NF) ,</td>\n",
       "      <td>Air Vanuatu (NF) ,</td>\n",
       "      <td>False</td>\n",
       "    </tr>\n",
       "  </tbody>\n",
       "</table>\n",
       "</div>"
      ],
      "text/plain": [
       "                                    Col_1  \\\n",
       "0                                    name   \n",
       "1                                   ident   \n",
       "2                                    type   \n",
       "4                                latitude   \n",
       "5                               longitude   \n",
       "6                               elevation   \n",
       "7                               continent   \n",
       "8                                 country   \n",
       "9                                  Region   \n",
       "10                      Scheduled Service   \n",
       "11                               GPS_Code   \n",
       "12                              IATA_Code   \n",
       "13                         wikipedia link   \n",
       "14                  Tanna Airport runways   \n",
       "15                                  15/33   \n",
       "16              Tanna Airport frequencies   \n",
       "17                  AFIS ( VILA FLT SVC )   \n",
       "18                          CTAF ( CTAF )   \n",
       "19                  Tanna Airport navaids   \n",
       "20                     White Grass ( WG )   \n",
       "21  Airlines flying from/to Tanna Airport   \n",
       "22                     Air Vanuatu (NF) ,   \n",
       "\n",
       "                                    Col_2  Col_3  \n",
       "0                           Tanna Airport  False  \n",
       "1                                    NVVW  False  \n",
       "2                          medium airport  False  \n",
       "4                      -19.45509910583496  False  \n",
       "5                      169.22399902343750  False  \n",
       "6                                      19  False  \n",
       "7                            Oceania (OC)  False  \n",
       "8                            Vanuatu (VU)  False  \n",
       "9                          Tafea (VU-TAE)  False  \n",
       "10                                    yes  False  \n",
       "11                                   NVVW  False  \n",
       "12                                    TAH  False  \n",
       "13             Tanna Airport in Wikipedia  False  \n",
       "14                  Tanna Airport runways  False  \n",
       "15                                4035x98   True  \n",
       "16              Tanna Airport frequencies  False  \n",
       "17                              655.3 Mhz  False  \n",
       "18                              120.7 Mhz  False  \n",
       "19                  Tanna Airport navaids  False  \n",
       "20                                398 Mhz  False  \n",
       "21  Airlines flying from/to Tanna Airport  False  \n",
       "22                     Air Vanuatu (NF) ,  False  "
      ]
     },
     "execution_count": 64,
     "metadata": {},
     "output_type": "execute_result"
    }
   ],
   "source": [
    "# Assign column name to runway data tag\n",
    "runway_B.columns = ['Col_1', 'Col_2', 'Col_3']\n",
    "runway_B"
   ]
  },
  {
   "cell_type": "code",
   "execution_count": 65,
   "id": "5505d999",
   "metadata": {},
   "outputs": [
    {
     "data": {
      "text/html": [
       "<div>\n",
       "<style scoped>\n",
       "    .dataframe tbody tr th:only-of-type {\n",
       "        vertical-align: middle;\n",
       "    }\n",
       "\n",
       "    .dataframe tbody tr th {\n",
       "        vertical-align: top;\n",
       "    }\n",
       "\n",
       "    .dataframe thead th {\n",
       "        text-align: right;\n",
       "    }\n",
       "</style>\n",
       "<table border=\"1\" class=\"dataframe\">\n",
       "  <thead>\n",
       "    <tr style=\"text-align: right;\">\n",
       "      <th></th>\n",
       "      <th>Col_1</th>\n",
       "      <th>Col_2</th>\n",
       "      <th>Col_3</th>\n",
       "    </tr>\n",
       "  </thead>\n",
       "  <tbody>\n",
       "    <tr>\n",
       "      <th>15</th>\n",
       "      <td>15/33</td>\n",
       "      <td>4035x98</td>\n",
       "      <td>True</td>\n",
       "    </tr>\n",
       "  </tbody>\n",
       "</table>\n",
       "</div>"
      ],
      "text/plain": [
       "    Col_1    Col_2  Col_3\n",
       "15  15/33  4035x98   True"
      ]
     },
     "execution_count": 65,
     "metadata": {},
     "output_type": "execute_result"
    }
   ],
   "source": [
    "# Select runway data rows\n",
    "runway_C = runway_B.loc[runway_B['Col_3'] == True]\n",
    "runway_C"
   ]
  },
  {
   "cell_type": "code",
   "execution_count": 66,
   "id": "9af7c4e0",
   "metadata": {},
   "outputs": [
    {
     "name": "stderr",
     "output_type": "stream",
     "text": [
      "C:\\Users\\drchr\\anaconda3\\envs\\PythonData\\lib\\site-packages\\ipykernel_launcher.py:1: SettingWithCopyWarning: \n",
      "A value is trying to be set on a copy of a slice from a DataFrame.\n",
      "Try using .loc[row_indexer,col_indexer] = value instead\n",
      "\n",
      "See the caveats in the documentation: https://pandas.pydata.org/pandas-docs/stable/user_guide/indexing.html#returning-a-view-versus-a-copy\n",
      "  \"\"\"Entry point for launching an IPython kernel.\n"
     ]
    },
    {
     "data": {
      "text/html": [
       "<div>\n",
       "<style scoped>\n",
       "    .dataframe tbody tr th:only-of-type {\n",
       "        vertical-align: middle;\n",
       "    }\n",
       "\n",
       "    .dataframe tbody tr th {\n",
       "        vertical-align: top;\n",
       "    }\n",
       "\n",
       "    .dataframe thead th {\n",
       "        text-align: right;\n",
       "    }\n",
       "</style>\n",
       "<table border=\"1\" class=\"dataframe\">\n",
       "  <thead>\n",
       "    <tr style=\"text-align: right;\">\n",
       "      <th></th>\n",
       "      <th>Col_1</th>\n",
       "      <th>Col_2</th>\n",
       "      <th>Col_3</th>\n",
       "      <th>length</th>\n",
       "    </tr>\n",
       "  </thead>\n",
       "  <tbody>\n",
       "    <tr>\n",
       "      <th>15</th>\n",
       "      <td>15/33</td>\n",
       "      <td>4035x98</td>\n",
       "      <td>True</td>\n",
       "      <td></td>\n",
       "    </tr>\n",
       "  </tbody>\n",
       "</table>\n",
       "</div>"
      ],
      "text/plain": [
       "    Col_1    Col_2  Col_3 length\n",
       "15  15/33  4035x98   True       "
      ]
     },
     "execution_count": 66,
     "metadata": {},
     "output_type": "execute_result"
    }
   ],
   "source": [
    "runway_C['length'] = ''\n",
    "runway_C"
   ]
  },
  {
   "cell_type": "code",
   "execution_count": 39,
   "id": "ddbe06a3",
   "metadata": {},
   "outputs": [
    {
     "ename": "ValueError",
     "evalue": "Length mismatch: Expected axis has 0 elements, new values have 1 elements",
     "output_type": "error",
     "traceback": [
      "\u001b[1;31m---------------------------------------------------------------------------\u001b[0m",
      "\u001b[1;31mValueError\u001b[0m                                Traceback (most recent call last)",
      "\u001b[1;32m~\\AppData\\Local\\Temp/ipykernel_22544/1368865138.py\u001b[0m in \u001b[0;36m<module>\u001b[1;34m\u001b[0m\n\u001b[1;32m----> 1\u001b[1;33m \u001b[0mrunway_df\u001b[0m\u001b[1;33m.\u001b[0m\u001b[0mindex\u001b[0m \u001b[1;33m=\u001b[0m \u001b[0mrunway_C\u001b[0m\u001b[1;33m.\u001b[0m\u001b[0mindex\u001b[0m\u001b[1;33m\u001b[0m\u001b[1;33m\u001b[0m\u001b[0m\n\u001b[0m\u001b[0;32m      2\u001b[0m \u001b[0mrunway_df\u001b[0m\u001b[1;33m[\u001b[0m\u001b[1;33m[\u001b[0m\u001b[1;34m'Col_1'\u001b[0m\u001b[1;33m,\u001b[0m \u001b[1;34m'Col_2'\u001b[0m\u001b[1;33m,\u001b[0m \u001b[1;34m'Col_3'\u001b[0m\u001b[1;33m]\u001b[0m\u001b[1;33m]\u001b[0m \u001b[1;33m=\u001b[0m \u001b[0mrunway_C\u001b[0m\u001b[1;33m[\u001b[0m\u001b[1;33m[\u001b[0m\u001b[1;34m'Col_1'\u001b[0m\u001b[1;33m,\u001b[0m \u001b[1;34m'Col_2'\u001b[0m\u001b[1;33m,\u001b[0m \u001b[1;34m'Col_3'\u001b[0m\u001b[1;33m]\u001b[0m\u001b[1;33m]\u001b[0m\u001b[1;33m\u001b[0m\u001b[1;33m\u001b[0m\u001b[0m\n\u001b[0;32m      3\u001b[0m \u001b[0mrunway_df\u001b[0m\u001b[1;33m\u001b[0m\u001b[1;33m\u001b[0m\u001b[0m\n",
      "\u001b[1;32m~\\anaconda3\\envs\\PythonData\\lib\\site-packages\\pandas\\core\\generic.py\u001b[0m in \u001b[0;36m__setattr__\u001b[1;34m(self, name, value)\u001b[0m\n\u001b[0;32m   5498\u001b[0m         \u001b[1;32mtry\u001b[0m\u001b[1;33m:\u001b[0m\u001b[1;33m\u001b[0m\u001b[1;33m\u001b[0m\u001b[0m\n\u001b[0;32m   5499\u001b[0m             \u001b[0mobject\u001b[0m\u001b[1;33m.\u001b[0m\u001b[0m__getattribute__\u001b[0m\u001b[1;33m(\u001b[0m\u001b[0mself\u001b[0m\u001b[1;33m,\u001b[0m \u001b[0mname\u001b[0m\u001b[1;33m)\u001b[0m\u001b[1;33m\u001b[0m\u001b[1;33m\u001b[0m\u001b[0m\n\u001b[1;32m-> 5500\u001b[1;33m             \u001b[1;32mreturn\u001b[0m \u001b[0mobject\u001b[0m\u001b[1;33m.\u001b[0m\u001b[0m__setattr__\u001b[0m\u001b[1;33m(\u001b[0m\u001b[0mself\u001b[0m\u001b[1;33m,\u001b[0m \u001b[0mname\u001b[0m\u001b[1;33m,\u001b[0m \u001b[0mvalue\u001b[0m\u001b[1;33m)\u001b[0m\u001b[1;33m\u001b[0m\u001b[1;33m\u001b[0m\u001b[0m\n\u001b[0m\u001b[0;32m   5501\u001b[0m         \u001b[1;32mexcept\u001b[0m \u001b[0mAttributeError\u001b[0m\u001b[1;33m:\u001b[0m\u001b[1;33m\u001b[0m\u001b[1;33m\u001b[0m\u001b[0m\n\u001b[0;32m   5502\u001b[0m             \u001b[1;32mpass\u001b[0m\u001b[1;33m\u001b[0m\u001b[1;33m\u001b[0m\u001b[0m\n",
      "\u001b[1;32m~\\anaconda3\\envs\\PythonData\\lib\\site-packages\\pandas\\_libs\\properties.pyx\u001b[0m in \u001b[0;36mpandas._libs.properties.AxisProperty.__set__\u001b[1;34m()\u001b[0m\n",
      "\u001b[1;32m~\\anaconda3\\envs\\PythonData\\lib\\site-packages\\pandas\\core\\generic.py\u001b[0m in \u001b[0;36m_set_axis\u001b[1;34m(self, axis, labels)\u001b[0m\n\u001b[0;32m    764\u001b[0m     \u001b[1;32mdef\u001b[0m \u001b[0m_set_axis\u001b[0m\u001b[1;33m(\u001b[0m\u001b[0mself\u001b[0m\u001b[1;33m,\u001b[0m \u001b[0maxis\u001b[0m\u001b[1;33m:\u001b[0m \u001b[0mint\u001b[0m\u001b[1;33m,\u001b[0m \u001b[0mlabels\u001b[0m\u001b[1;33m:\u001b[0m \u001b[0mIndex\u001b[0m\u001b[1;33m)\u001b[0m \u001b[1;33m->\u001b[0m \u001b[1;32mNone\u001b[0m\u001b[1;33m:\u001b[0m\u001b[1;33m\u001b[0m\u001b[1;33m\u001b[0m\u001b[0m\n\u001b[0;32m    765\u001b[0m         \u001b[0mlabels\u001b[0m \u001b[1;33m=\u001b[0m \u001b[0mensure_index\u001b[0m\u001b[1;33m(\u001b[0m\u001b[0mlabels\u001b[0m\u001b[1;33m)\u001b[0m\u001b[1;33m\u001b[0m\u001b[1;33m\u001b[0m\u001b[0m\n\u001b[1;32m--> 766\u001b[1;33m         \u001b[0mself\u001b[0m\u001b[1;33m.\u001b[0m\u001b[0m_mgr\u001b[0m\u001b[1;33m.\u001b[0m\u001b[0mset_axis\u001b[0m\u001b[1;33m(\u001b[0m\u001b[0maxis\u001b[0m\u001b[1;33m,\u001b[0m \u001b[0mlabels\u001b[0m\u001b[1;33m)\u001b[0m\u001b[1;33m\u001b[0m\u001b[1;33m\u001b[0m\u001b[0m\n\u001b[0m\u001b[0;32m    767\u001b[0m         \u001b[0mself\u001b[0m\u001b[1;33m.\u001b[0m\u001b[0m_clear_item_cache\u001b[0m\u001b[1;33m(\u001b[0m\u001b[1;33m)\u001b[0m\u001b[1;33m\u001b[0m\u001b[1;33m\u001b[0m\u001b[0m\n\u001b[0;32m    768\u001b[0m \u001b[1;33m\u001b[0m\u001b[0m\n",
      "\u001b[1;32m~\\anaconda3\\envs\\PythonData\\lib\\site-packages\\pandas\\core\\internals\\managers.py\u001b[0m in \u001b[0;36mset_axis\u001b[1;34m(self, axis, new_labels)\u001b[0m\n\u001b[0;32m    214\u001b[0m     \u001b[1;32mdef\u001b[0m \u001b[0mset_axis\u001b[0m\u001b[1;33m(\u001b[0m\u001b[0mself\u001b[0m\u001b[1;33m,\u001b[0m \u001b[0maxis\u001b[0m\u001b[1;33m:\u001b[0m \u001b[0mint\u001b[0m\u001b[1;33m,\u001b[0m \u001b[0mnew_labels\u001b[0m\u001b[1;33m:\u001b[0m \u001b[0mIndex\u001b[0m\u001b[1;33m)\u001b[0m \u001b[1;33m->\u001b[0m \u001b[1;32mNone\u001b[0m\u001b[1;33m:\u001b[0m\u001b[1;33m\u001b[0m\u001b[1;33m\u001b[0m\u001b[0m\n\u001b[0;32m    215\u001b[0m         \u001b[1;31m# Caller is responsible for ensuring we have an Index object.\u001b[0m\u001b[1;33m\u001b[0m\u001b[1;33m\u001b[0m\u001b[1;33m\u001b[0m\u001b[0m\n\u001b[1;32m--> 216\u001b[1;33m         \u001b[0mself\u001b[0m\u001b[1;33m.\u001b[0m\u001b[0m_validate_set_axis\u001b[0m\u001b[1;33m(\u001b[0m\u001b[0maxis\u001b[0m\u001b[1;33m,\u001b[0m \u001b[0mnew_labels\u001b[0m\u001b[1;33m)\u001b[0m\u001b[1;33m\u001b[0m\u001b[1;33m\u001b[0m\u001b[0m\n\u001b[0m\u001b[0;32m    217\u001b[0m         \u001b[0mself\u001b[0m\u001b[1;33m.\u001b[0m\u001b[0maxes\u001b[0m\u001b[1;33m[\u001b[0m\u001b[0maxis\u001b[0m\u001b[1;33m]\u001b[0m \u001b[1;33m=\u001b[0m \u001b[0mnew_labels\u001b[0m\u001b[1;33m\u001b[0m\u001b[1;33m\u001b[0m\u001b[0m\n\u001b[0;32m    218\u001b[0m \u001b[1;33m\u001b[0m\u001b[0m\n",
      "\u001b[1;32m~\\anaconda3\\envs\\PythonData\\lib\\site-packages\\pandas\\core\\internals\\base.py\u001b[0m in \u001b[0;36m_validate_set_axis\u001b[1;34m(self, axis, new_labels)\u001b[0m\n\u001b[0;32m     56\u001b[0m         \u001b[1;32melif\u001b[0m \u001b[0mnew_len\u001b[0m \u001b[1;33m!=\u001b[0m \u001b[0mold_len\u001b[0m\u001b[1;33m:\u001b[0m\u001b[1;33m\u001b[0m\u001b[1;33m\u001b[0m\u001b[0m\n\u001b[0;32m     57\u001b[0m             raise ValueError(\n\u001b[1;32m---> 58\u001b[1;33m                 \u001b[1;34mf\"Length mismatch: Expected axis has {old_len} elements, new \"\u001b[0m\u001b[1;33m\u001b[0m\u001b[1;33m\u001b[0m\u001b[0m\n\u001b[0m\u001b[0;32m     59\u001b[0m                 \u001b[1;34mf\"values have {new_len} elements\"\u001b[0m\u001b[1;33m\u001b[0m\u001b[1;33m\u001b[0m\u001b[0m\n\u001b[0;32m     60\u001b[0m             )\n",
      "\u001b[1;31mValueError\u001b[0m: Length mismatch: Expected axis has 0 elements, new values have 1 elements"
     ]
    }
   ],
   "source": [
    "runway_df.index = runway_C.index\n",
    "runway_df[['Col_1', 'Col_2', 'Col_3']] = runway_C[['Col_1', 'Col_2', 'Col_3']]\n",
    "runway_df"
   ]
  },
  {
   "cell_type": "code",
   "execution_count": null,
   "id": "8086c15a",
   "metadata": {},
   "outputs": [],
   "source": [
    "# parse runway length/width variables\n",
    "runway_df[['length', 'width']] = runway_df['length_width'].str.split('x', expand=True)\n",
    "runway_df"
   ]
  },
  {
   "cell_type": "code",
   "execution_count": null,
   "id": "56b56de9",
   "metadata": {},
   "outputs": [],
   "source": [
    "# Convert runway length/width to float datatype\n",
    "runway_df['length'] = runway_df['length'].astype('float')\n",
    "runway_df['width'] = runway_df['width'].astype('float')\n",
    "runway_df"
   ]
  },
  {
   "cell_type": "code",
   "execution_count": null,
   "id": "c547323d",
   "metadata": {},
   "outputs": [],
   "source": [
    "# Create runway length/width totals\n",
    "runway_df.loc['runway_total']= runway_df.sum(numeric_only=True, axis=0)\n",
    "runway_df"
   ]
  },
  {
   "cell_type": "code",
   "execution_count": null,
   "id": "fa71687b",
   "metadata": {},
   "outputs": [],
   "source": [
    "# Create total runway length variable\n",
    "runway_L = runway_df.loc['runway_total']['length']\n",
    "runway_L"
   ]
  },
  {
   "cell_type": "code",
   "execution_count": null,
   "id": "7f8ba070",
   "metadata": {},
   "outputs": [],
   "source": [
    "# Create total runway width variable\n",
    "runway_W = runway_df.loc['runway_total']['width']\n",
    "runway_W"
   ]
  },
  {
   "cell_type": "code",
   "execution_count": null,
   "id": "4b800133",
   "metadata": {},
   "outputs": [],
   "source": [
    "# Identify airlines data row\n",
    "pattern = ' , '\n",
    "airlines = df2['Col_2'].str.contains(pattern, na=False)"
   ]
  },
  {
   "cell_type": "code",
   "execution_count": null,
   "id": "d0b80385",
   "metadata": {},
   "outputs": [],
   "source": [
    "# tag airline data rows in table w/\"True\"\n",
    "airlines_B = pd.concat([df2, airlines], axis=1)"
   ]
  },
  {
   "cell_type": "code",
   "execution_count": null,
   "id": "46edce33",
   "metadata": {},
   "outputs": [],
   "source": [
    "# Assign column name to runway data tag\n",
    "airlines_B.columns = ['Col_1', 'Col_2', 'Col_3']"
   ]
  },
  {
   "cell_type": "code",
   "execution_count": null,
   "id": "60f4425e",
   "metadata": {},
   "outputs": [],
   "source": [
    "# Select airline data row\n",
    "airlines_C = airlines_B.loc[airlines_B['Col_3'] == True]"
   ]
  },
  {
   "cell_type": "code",
   "execution_count": null,
   "id": "7c630714",
   "metadata": {},
   "outputs": [],
   "source": [
    "# Create airlines Dataframe\n",
    "airlines_df = pd.DataFrame(airlines_C, columns=['Col_1', 'Col_2', 'Col_3'])"
   ]
  },
  {
   "cell_type": "code",
   "execution_count": null,
   "id": "76df402d",
   "metadata": {},
   "outputs": [],
   "source": [
    "# Parse airlines data into rows\n",
    "airlines_df2 = (airlines_df.set_index(['Col_3'])\n",
    "   .apply(lambda x: x.str.split(',').explode())\n",
    "   .reset_index())"
   ]
  },
  {
   "cell_type": "code",
   "execution_count": null,
   "id": "fa13fb97",
   "metadata": {},
   "outputs": [],
   "source": [
    "# Tag row with null data\n",
    "airlines_df2['Col_1'].replace('', np.nan, inplace=True)"
   ]
  },
  {
   "cell_type": "code",
   "execution_count": null,
   "id": "7af884e4",
   "metadata": {},
   "outputs": [],
   "source": [
    "# Delete row with null data\n",
    "airlines_df2.dropna(subset=['Col_1'], inplace=True)"
   ]
  },
  {
   "cell_type": "code",
   "execution_count": null,
   "id": "fbb85d15",
   "metadata": {},
   "outputs": [],
   "source": [
    "# Create airline_count variable\n",
    "airline_count = len(airlines_df2)"
   ]
  },
  {
   "cell_type": "code",
   "execution_count": null,
   "id": "440912ed",
   "metadata": {},
   "outputs": [],
   "source": [
    "# Write data to temp Dataframe\n",
    "temp_df.at[0, 'ID'] = ID2\n",
    "temp_df.at[0, 'GPS_Code'] = GPS_Code2\n",
    "temp_df.at[0, 'name'] = name2\n",
    "temp_df.at[0, 'continent'] = continent2\n",
    "temp_df.at[0, 'country'] = country2\n",
    "temp_df.at[0, 'region'] = region2\n",
    "temp_df.at[0, 'af_type'] = af_type2\n",
    "temp_df.at[0, 'latitude'] = latitude2\n",
    "temp_df.at[0, 'longitude'] = longitude2\n",
    "temp_df.at[0, 'elevation'] = elevation2\n",
    "temp_df.at[0, 'runway_L'] = runway_L\n",
    "temp_df.at[0, 'runway_W'] = runway_W\n",
    "temp_df.at[0, 'freq_count'] = freq_count\n",
    "temp_df.at[0, 'airline_count'] = airline_count\n",
    "temp_df"
   ]
  },
  {
   "cell_type": "code",
   "execution_count": null,
   "id": "f1f162fa",
   "metadata": {},
   "outputs": [],
   "source": [
    "# Convert temp Dataframe to correct data types\n",
    "temp_df = temp_df.astype({'latitude':'float', 'longitude':'float', 'elevation':'int', 'runway_L':'int', 'runway_W':'int', 'freq_count':'int', 'airline_count':'int'})"
   ]
  }
 ],
 "metadata": {
  "kernelspec": {
   "display_name": "PythonData",
   "language": "python",
   "name": "pythondata"
  },
  "language_info": {
   "codemirror_mode": {
    "name": "ipython",
    "version": 3
   },
   "file_extension": ".py",
   "mimetype": "text/x-python",
   "name": "python",
   "nbconvert_exporter": "python",
   "pygments_lexer": "ipython3",
   "version": "3.7.11"
  }
 },
 "nbformat": 4,
 "nbformat_minor": 5
}
