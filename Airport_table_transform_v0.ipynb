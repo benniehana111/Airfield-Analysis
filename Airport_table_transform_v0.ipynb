{
 "cells": [
  {
   "cell_type": "code",
   "execution_count": 1,
   "id": "a21e6824",
   "metadata": {},
   "outputs": [],
   "source": [
    "# Import tools\n",
    "from splinter import Browser\n",
    "import pandas as pd\n",
    "import numpy as np\n",
    "from webdriver_manager.chrome import ChromeDriverManager"
   ]
  },
  {
   "cell_type": "code",
   "execution_count": 2,
   "id": "0881b7e9",
   "metadata": {},
   "outputs": [],
   "source": [
    "# Create the temporary dataframe\n",
    "temp_df = pd.DataFrame(columns =['ID', 'GPS_Code', 'name', 'continent', 'country', 'region', 'af_type', 'latitude', 'longitude', 'elevation', 'runway_L', 'runway_W', 'freq_count', 'airline_count'])"
   ]
  },
  {
   "cell_type": "code",
   "execution_count": 3,
   "id": "a46ce3c8",
   "metadata": {},
   "outputs": [],
   "source": [
    "# Read HTML table\n",
    "df1 = pd.read_html(\"https://airportdatabase.net/vanuatu/tanna-airport-tah_5012.html\")[0]"
   ]
  },
  {
   "cell_type": "code",
   "execution_count": 4,
   "id": "0a1e78cc",
   "metadata": {},
   "outputs": [],
   "source": [
    "# Rename columns for ease of reading\n",
    "df1.columns = ['Col_1', 'Col_2']"
   ]
  },
  {
   "cell_type": "code",
   "execution_count": 5,
   "id": "1d1b0a26",
   "metadata": {},
   "outputs": [],
   "source": [
    "# Create Name variable\n",
    "df1.loc[0, 'Col_1'] = 'name'\n",
    "df1['Col_2'] = df1['Col_2'].str.replace(' details and information', '')"
   ]
  },
  {
   "cell_type": "code",
   "execution_count": 6,
   "id": "ea01e4ce",
   "metadata": {},
   "outputs": [
    {
     "name": "stderr",
     "output_type": "stream",
     "text": [
      "C:\\Users\\drchr\\anaconda3\\envs\\PythonData\\lib\\site-packages\\ipykernel_launcher.py:2: FutureWarning: The default value of regex will change from True to False in a future version.\n",
      "  \n"
     ]
    }
   ],
   "source": [
    "# Clean text; remove \"ft.\"\n",
    "df1['Col_2'] = df1['Col_2'].str.replace(' ft.', '')"
   ]
  },
  {
   "cell_type": "code",
   "execution_count": 7,
   "id": "3b3b0470",
   "metadata": {},
   "outputs": [],
   "source": [
    "# Clean text; remove colons\n",
    "df1['Col_1'] = df1['Col_1'].str.replace(':', '')"
   ]
  },
  {
   "cell_type": "code",
   "execution_count": 8,
   "id": "42ade206",
   "metadata": {},
   "outputs": [],
   "source": [
    "# Clean text; remove \"iso\"\n",
    "df1['Col_1'] = df1['Col_1'].str.replace('iso ', '')"
   ]
  },
  {
   "cell_type": "code",
   "execution_count": 9,
   "id": "b775b82e",
   "metadata": {},
   "outputs": [],
   "source": [
    "# Clean text; remove \"ISO\"\n",
    "df1['Col_1'] = df1['Col_1'].str.replace('ISO ', '')"
   ]
  },
  {
   "cell_type": "code",
   "execution_count": 10,
   "id": "601102d7",
   "metadata": {},
   "outputs": [],
   "source": [
    "# Clean text; remove \" Code\"\n",
    "df1['Col_1'] = df1['Col_1'].str.replace(' Code', '_Code')"
   ]
  },
  {
   "cell_type": "code",
   "execution_count": 11,
   "id": "1cc757d4",
   "metadata": {},
   "outputs": [],
   "source": [
    "# Remove null row\n",
    "df2 = df1.dropna()"
   ]
  },
  {
   "cell_type": "code",
   "execution_count": 12,
   "id": "5b2b9b8f",
   "metadata": {},
   "outputs": [],
   "source": [
    "# count frequencies and navaids\n",
    "freq_df = df2.loc[df2['Col_2'].str.contains(\"Mhz\")]"
   ]
  },
  {
   "cell_type": "code",
   "execution_count": 13,
   "id": "f7a1ab75",
   "metadata": {},
   "outputs": [],
   "source": [
    "# create freq_count variable\n",
    "freq_count = len(freq_df)"
   ]
  },
  {
   "cell_type": "code",
   "execution_count": 14,
   "id": "72601a20",
   "metadata": {},
   "outputs": [],
   "source": [
    "# create name variable\n",
    "name = df2.loc[df2['Col_1'].str.contains('name')]\n",
    "name2 = name.iloc[0]['Col_2']"
   ]
  },
  {
   "cell_type": "code",
   "execution_count": 15,
   "id": "b50c44fc",
   "metadata": {},
   "outputs": [],
   "source": [
    "# create ID variable\n",
    "ID = df2.loc[df2['Col_1'].str.contains('ident')]\n",
    "ID2 = ID.iloc[0]['Col_2']"
   ]
  },
  {
   "cell_type": "code",
   "execution_count": 16,
   "id": "f5ba53e2",
   "metadata": {},
   "outputs": [],
   "source": [
    "# create type variable\n",
    "af_type = df2.loc[df2['Col_1'].str.contains('type')]\n",
    "af_type2 = af_type.iloc[0]['Col_2']"
   ]
  },
  {
   "cell_type": "code",
   "execution_count": 17,
   "id": "259058f0",
   "metadata": {},
   "outputs": [],
   "source": [
    "# create latitude variable\n",
    "latitude = df2.loc[df2['Col_1'].str.contains('latitude')]\n",
    "latitude2 = latitude.iloc[0]['Col_2']"
   ]
  },
  {
   "cell_type": "code",
   "execution_count": 18,
   "id": "0853f3d5",
   "metadata": {},
   "outputs": [],
   "source": [
    "# create longitude variable\n",
    "longitude = df2.loc[df2['Col_1'].str.contains('longitude')]\n",
    "longitude2 = longitude.iloc[0]['Col_2']"
   ]
  },
  {
   "cell_type": "code",
   "execution_count": 19,
   "id": "0ea2b204",
   "metadata": {},
   "outputs": [],
   "source": [
    "# create elevation variable\n",
    "elevation = df2.loc[df2['Col_1'].str.contains('elevation')]\n",
    "elevation2 = elevation.iloc[0]['Col_2']"
   ]
  },
  {
   "cell_type": "code",
   "execution_count": 20,
   "id": "b088304b",
   "metadata": {},
   "outputs": [],
   "source": [
    "# create continent variable\n",
    "continent = df2.loc[df2['Col_1'].str.contains('continent')]\n",
    "continent2 = continent.iloc[0]['Col_2']"
   ]
  },
  {
   "cell_type": "code",
   "execution_count": 21,
   "id": "fa61bfd5",
   "metadata": {},
   "outputs": [],
   "source": [
    "# create country variable\n",
    "country = df2.loc[df2['Col_1'].str.contains('country')]\n",
    "country2 = country.iloc[0]['Col_2']"
   ]
  },
  {
   "cell_type": "code",
   "execution_count": 22,
   "id": "8c5f9791",
   "metadata": {},
   "outputs": [],
   "source": [
    "# create region variable\n",
    "region = df2.loc[df2['Col_1'].str.contains('Region')]\n",
    "region2 = region.iloc[0]['Col_2']"
   ]
  },
  {
   "cell_type": "code",
   "execution_count": 23,
   "id": "f8e3d4a4",
   "metadata": {},
   "outputs": [],
   "source": [
    "# create GPS_code variable\n",
    "GPS_Code = df2.loc[df2['Col_1'].str.contains('GPS_Code')]\n",
    "GPS_Code2 = GPS_Code.iloc[0]['Col_2']"
   ]
  },
  {
   "cell_type": "code",
   "execution_count": 24,
   "id": "793a621e",
   "metadata": {},
   "outputs": [],
   "source": [
    "# find runway data rows\n",
    "pattern = '[0-9]x[0-9]'\n",
    "runway = df2['Col_2'].str.contains(pattern, na=False)"
   ]
  },
  {
   "cell_type": "code",
   "execution_count": 25,
   "id": "9bf8cd23",
   "metadata": {},
   "outputs": [],
   "source": [
    "# tag runway data rows in table w/\"True\"\n",
    "runway_B = pd.concat([df2, runway], axis=1)"
   ]
  },
  {
   "cell_type": "code",
   "execution_count": 26,
   "id": "b6a18027",
   "metadata": {},
   "outputs": [],
   "source": [
    "# Assign column name to runway data tag\n",
    "runway_B.columns = ['Col_1', 'Col_2', 'Col_3']"
   ]
  },
  {
   "cell_type": "code",
   "execution_count": 27,
   "id": "5505d999",
   "metadata": {},
   "outputs": [],
   "source": [
    "# Select runway data rows\n",
    "runway_C = runway_B.loc[runway_B['Col_3'] == True]"
   ]
  },
  {
   "cell_type": "code",
   "execution_count": 28,
   "id": "8086c15a",
   "metadata": {},
   "outputs": [
    {
     "name": "stderr",
     "output_type": "stream",
     "text": [
      "C:\\Users\\drchr\\anaconda3\\envs\\PythonData\\lib\\site-packages\\pandas\\core\\frame.py:3641: SettingWithCopyWarning: \n",
      "A value is trying to be set on a copy of a slice from a DataFrame.\n",
      "Try using .loc[row_indexer,col_indexer] = value instead\n",
      "\n",
      "See the caveats in the documentation: https://pandas.pydata.org/pandas-docs/stable/user_guide/indexing.html#returning-a-view-versus-a-copy\n",
      "  self[k1] = value[k2]\n"
     ]
    }
   ],
   "source": [
    "# parse runway length/width variables\n",
    "runway_C[['length', 'width']] = runway_C['Col_2'].str.split('x', expand=True)"
   ]
  },
  {
   "cell_type": "code",
   "execution_count": 29,
   "id": "88c93d2a",
   "metadata": {},
   "outputs": [],
   "source": [
    "# create runway Dataframe\n",
    "runway_df = pd.DataFrame(runway_C, columns=['Col_1', 'Col_2', 'Col_3', 'length', 'width'])"
   ]
  },
  {
   "cell_type": "code",
   "execution_count": 30,
   "id": "56b56de9",
   "metadata": {},
   "outputs": [],
   "source": [
    "# Convert runway length/width to integer datatype\n",
    "runway_df['length'] = runway_df['length'].astype('int')\n",
    "runway_df['width'] = runway_df['width'].astype('int')"
   ]
  },
  {
   "cell_type": "code",
   "execution_count": 31,
   "id": "c547323d",
   "metadata": {},
   "outputs": [],
   "source": [
    "# Create runway length/width totals\n",
    "runway_df.loc['runway_total']= runway_df.sum(numeric_only=True, axis=0)"
   ]
  },
  {
   "cell_type": "code",
   "execution_count": 32,
   "id": "fa71687b",
   "metadata": {},
   "outputs": [],
   "source": [
    "# Create total runway length variable\n",
    "runway_L = runway_df.loc['runway_total']['length']"
   ]
  },
  {
   "cell_type": "code",
   "execution_count": 33,
   "id": "7f8ba070",
   "metadata": {},
   "outputs": [],
   "source": [
    "# Create total runway width variable\n",
    "runway_W = runway_df.loc['runway_total']['width']"
   ]
  },
  {
   "cell_type": "code",
   "execution_count": 34,
   "id": "4b800133",
   "metadata": {},
   "outputs": [],
   "source": [
    "# Identify airlines data row\n",
    "pattern = ' , '\n",
    "airlines = df2['Col_2'].str.contains(pattern, na=False)"
   ]
  },
  {
   "cell_type": "code",
   "execution_count": 35,
   "id": "d0b80385",
   "metadata": {},
   "outputs": [],
   "source": [
    "# tag airline data rows in table w/\"True\"\n",
    "airlines_B = pd.concat([df2, airlines], axis=1)"
   ]
  },
  {
   "cell_type": "code",
   "execution_count": 36,
   "id": "46edce33",
   "metadata": {},
   "outputs": [],
   "source": [
    "# Assign column name to runway data tag\n",
    "airlines_B.columns = ['Col_1', 'Col_2', 'Col_3']"
   ]
  },
  {
   "cell_type": "code",
   "execution_count": 37,
   "id": "60f4425e",
   "metadata": {},
   "outputs": [],
   "source": [
    "# Select airline data row\n",
    "airlines_C = airlines_B.loc[airlines_B['Col_3'] == True]"
   ]
  },
  {
   "cell_type": "code",
   "execution_count": 38,
   "id": "7c630714",
   "metadata": {},
   "outputs": [],
   "source": [
    "# Create airlines Dataframe\n",
    "airlines_df = pd.DataFrame(airlines_C, columns=['Col_1', 'Col_2', 'Col_3'])"
   ]
  },
  {
   "cell_type": "code",
   "execution_count": 39,
   "id": "76df402d",
   "metadata": {},
   "outputs": [],
   "source": [
    "# Parse airlines data into rows\n",
    "airlines_df2 = (airlines_df.set_index(['Col_3'])\n",
    "   .apply(lambda x: x.str.split(',').explode())\n",
    "   .reset_index())"
   ]
  },
  {
   "cell_type": "code",
   "execution_count": 40,
   "id": "fa13fb97",
   "metadata": {},
   "outputs": [],
   "source": [
    "# Tag row with null data\n",
    "airlines_df2['Col_1'].replace('', np.nan, inplace=True)"
   ]
  },
  {
   "cell_type": "code",
   "execution_count": 41,
   "id": "7af884e4",
   "metadata": {},
   "outputs": [],
   "source": [
    "# Delete row with null data\n",
    "airlines_df2.dropna(subset=['Col_1'], inplace=True)"
   ]
  },
  {
   "cell_type": "code",
   "execution_count": 42,
   "id": "fbb85d15",
   "metadata": {},
   "outputs": [],
   "source": [
    "# Create airline_count variable\n",
    "airline_count = len(airlines_df2)"
   ]
  },
  {
   "cell_type": "code",
   "execution_count": 43,
   "id": "440912ed",
   "metadata": {},
   "outputs": [
    {
     "data": {
      "text/html": [
       "<div>\n",
       "<style scoped>\n",
       "    .dataframe tbody tr th:only-of-type {\n",
       "        vertical-align: middle;\n",
       "    }\n",
       "\n",
       "    .dataframe tbody tr th {\n",
       "        vertical-align: top;\n",
       "    }\n",
       "\n",
       "    .dataframe thead th {\n",
       "        text-align: right;\n",
       "    }\n",
       "</style>\n",
       "<table border=\"1\" class=\"dataframe\">\n",
       "  <thead>\n",
       "    <tr style=\"text-align: right;\">\n",
       "      <th></th>\n",
       "      <th>ID</th>\n",
       "      <th>GPS_Code</th>\n",
       "      <th>name</th>\n",
       "      <th>continent</th>\n",
       "      <th>country</th>\n",
       "      <th>region</th>\n",
       "      <th>af_type</th>\n",
       "      <th>latitude</th>\n",
       "      <th>longitude</th>\n",
       "      <th>elevation</th>\n",
       "      <th>runway_L</th>\n",
       "      <th>runway_W</th>\n",
       "      <th>freq_count</th>\n",
       "      <th>airline_count</th>\n",
       "    </tr>\n",
       "  </thead>\n",
       "  <tbody>\n",
       "    <tr>\n",
       "      <th>0</th>\n",
       "      <td>NVVW</td>\n",
       "      <td>NVVW</td>\n",
       "      <td>Tanna Airport</td>\n",
       "      <td>Oceania (OC)</td>\n",
       "      <td>Vanuatu (VU)</td>\n",
       "      <td>Tafea (VU-TAE)</td>\n",
       "      <td>medium airport</td>\n",
       "      <td>-19.45509910583496</td>\n",
       "      <td>169.22399902343750</td>\n",
       "      <td>19</td>\n",
       "      <td>4035.0</td>\n",
       "      <td>98.0</td>\n",
       "      <td>3</td>\n",
       "      <td>0</td>\n",
       "    </tr>\n",
       "  </tbody>\n",
       "</table>\n",
       "</div>"
      ],
      "text/plain": [
       "     ID GPS_Code           name     continent       country          region  \\\n",
       "0  NVVW     NVVW  Tanna Airport  Oceania (OC)  Vanuatu (VU)  Tafea (VU-TAE)   \n",
       "\n",
       "          af_type            latitude           longitude elevation runway_L  \\\n",
       "0  medium airport  -19.45509910583496  169.22399902343750        19   4035.0   \n",
       "\n",
       "  runway_W freq_count airline_count  \n",
       "0     98.0          3             0  "
      ]
     },
     "execution_count": 43,
     "metadata": {},
     "output_type": "execute_result"
    }
   ],
   "source": [
    "# Write data to temp Dataframe\n",
    "temp_df.at[0, 'ID'] = ID2\n",
    "temp_df.at[0, 'GPS_Code'] = GPS_Code2\n",
    "temp_df.at[0, 'name'] = name2\n",
    "temp_df.at[0, 'continent'] = continent2\n",
    "temp_df.at[0, 'country'] = country2\n",
    "temp_df.at[0, 'region'] = region2\n",
    "temp_df.at[0, 'af_type'] = af_type2\n",
    "temp_df.at[0, 'latitude'] = latitude2\n",
    "temp_df.at[0, 'longitude'] = longitude2\n",
    "temp_df.at[0, 'elevation'] = elevation2\n",
    "temp_df.at[0, 'runway_L'] = runway_L\n",
    "temp_df.at[0, 'runway_W'] = runway_W\n",
    "temp_df.at[0, 'freq_count'] = freq_count\n",
    "temp_df.at[0, 'airline_count'] = airline_count\n",
    "temp_df"
   ]
  },
  {
   "cell_type": "code",
   "execution_count": 44,
   "id": "f1f162fa",
   "metadata": {},
   "outputs": [],
   "source": [
    "# Convert temp Dataframe to correct data types\n",
    "temp_df = temp_df.astype({'latitude':'float', 'longitude':'float', 'elevation':'int', 'runway_L':'int', 'runway_W':'int', 'freq_count':'int', 'airline_count':'int'})"
   ]
  },
  {
   "cell_type": "code",
   "execution_count": 45,
   "id": "e273c351",
   "metadata": {},
   "outputs": [],
   "source": [
    "# Append to existing CSV file\n",
    "\n",
    "temp_df.to_csv(\"Resources/AF1.csv\", mode='a', index=False, header=False)"
   ]
  }
 ],
 "metadata": {
  "kernelspec": {
   "display_name": "PythonData",
   "language": "python",
   "name": "pythondata"
  },
  "language_info": {
   "codemirror_mode": {
    "name": "ipython",
    "version": 3
   },
   "file_extension": ".py",
   "mimetype": "text/x-python",
   "name": "python",
   "nbconvert_exporter": "python",
   "pygments_lexer": "ipython3",
   "version": "3.7.11"
  }
 },
 "nbformat": 4,
 "nbformat_minor": 5
}
