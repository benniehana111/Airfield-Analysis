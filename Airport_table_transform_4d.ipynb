{
 "cells": [
  {
   "cell_type": "code",
   "execution_count": 1,
   "id": "a21e6824",
   "metadata": {},
   "outputs": [],
   "source": [
    "# Import tools\n",
    "from splinter import Browser\n",
    "import pandas as pd\n",
    "import numpy as np\n",
    "from webdriver_manager.chrome import ChromeDriverManager"
   ]
  },
  {
   "cell_type": "code",
   "execution_count": 2,
   "id": "855b8592",
   "metadata": {},
   "outputs": [
    {
     "name": "stdout",
     "output_type": "stream",
     "text": [
      "Empty DataFrame\n",
      "Columns: [ID, GPS_Code, IATA_Code, name, continent, country, region, af_type, latitude, longitude, elevation, runway_L, runway_W, freq_count, airline_count]\n",
      "Index: []\n"
     ]
    }
   ],
   "source": [
    "# Create empyt DataFrame\n",
    "AF1 = pd.DataFrame(columns = ['ID', 'GPS_Code', 'IATA_Code', 'name', 'continent', 'country', 'region', 'af_type', 'latitude', 'longitude', 'elevation',  'runway_L', 'runway_W', 'freq_count', 'airline_count'])\n",
    "print(AF1)"
   ]
  },
  {
   "cell_type": "code",
   "execution_count": 3,
   "id": "0881b7e9",
   "metadata": {},
   "outputs": [
    {
     "data": {
      "text/html": [
       "<div>\n",
       "<style scoped>\n",
       "    .dataframe tbody tr th:only-of-type {\n",
       "        vertical-align: middle;\n",
       "    }\n",
       "\n",
       "    .dataframe tbody tr th {\n",
       "        vertical-align: top;\n",
       "    }\n",
       "\n",
       "    .dataframe thead th {\n",
       "        text-align: right;\n",
       "    }\n",
       "</style>\n",
       "<table border=\"1\" class=\"dataframe\">\n",
       "  <thead>\n",
       "    <tr style=\"text-align: right;\">\n",
       "      <th></th>\n",
       "      <th>ID</th>\n",
       "      <th>GPS_Code</th>\n",
       "      <th>IATA_Code</th>\n",
       "      <th>name</th>\n",
       "      <th>continent</th>\n",
       "      <th>country</th>\n",
       "      <th>region</th>\n",
       "      <th>af_type</th>\n",
       "      <th>latitude</th>\n",
       "      <th>longitude</th>\n",
       "      <th>elevation</th>\n",
       "      <th>runway_L</th>\n",
       "      <th>runway_W</th>\n",
       "      <th>freq_count</th>\n",
       "      <th>airline_count</th>\n",
       "    </tr>\n",
       "  </thead>\n",
       "  <tbody>\n",
       "  </tbody>\n",
       "</table>\n",
       "</div>"
      ],
      "text/plain": [
       "Empty DataFrame\n",
       "Columns: [ID, GPS_Code, IATA_Code, name, continent, country, region, af_type, latitude, longitude, elevation, runway_L, runway_W, freq_count, airline_count]\n",
       "Index: []"
      ]
     },
     "execution_count": 3,
     "metadata": {},
     "output_type": "execute_result"
    }
   ],
   "source": [
    "# Create the temporary dataframe\n",
    "temp_df = pd.DataFrame(columns =['ID', 'GPS_Code', 'IATA_Code', 'name', 'continent', 'country', 'region', 'af_type', 'latitude', 'longitude', 'elevation', 'runway_L', 'runway_W', 'freq_count', 'airline_count'])\n",
    "temp_df"
   ]
  },
  {
   "cell_type": "code",
   "execution_count": 4,
   "id": "56b9d771",
   "metadata": {},
   "outputs": [],
   "source": [
    "# Import URL data\n",
    "url_data_df = \"Resources/Pacific_airfield_test1.csv\""
   ]
  },
  {
   "cell_type": "code",
   "execution_count": 5,
   "id": "3dfbc541",
   "metadata": {},
   "outputs": [
    {
     "data": {
      "text/html": [
       "<div>\n",
       "<style scoped>\n",
       "    .dataframe tbody tr th:only-of-type {\n",
       "        vertical-align: middle;\n",
       "    }\n",
       "\n",
       "    .dataframe tbody tr th {\n",
       "        vertical-align: top;\n",
       "    }\n",
       "\n",
       "    .dataframe thead th {\n",
       "        text-align: right;\n",
       "    }\n",
       "</style>\n",
       "<table border=\"1\" class=\"dataframe\">\n",
       "  <thead>\n",
       "    <tr style=\"text-align: right;\">\n",
       "      <th></th>\n",
       "      <th>url</th>\n",
       "      <th>surface</th>\n",
       "    </tr>\n",
       "  </thead>\n",
       "  <tbody>\n",
       "    <tr>\n",
       "      <th>0</th>\n",
       "      <td>https://airportdatabase.net/australia/badu-isl...</td>\n",
       "      <td>2</td>\n",
       "    </tr>\n",
       "    <tr>\n",
       "      <th>1</th>\n",
       "      <td>https://airportdatabase.net/australia/horn-isl...</td>\n",
       "      <td>3</td>\n",
       "    </tr>\n",
       "    <tr>\n",
       "      <th>2</th>\n",
       "      <td>https://airportdatabase.net/australia/kubin-ai...</td>\n",
       "      <td>2</td>\n",
       "    </tr>\n",
       "    <tr>\n",
       "      <th>3</th>\n",
       "      <td>https://airportdatabase.net/solomon-islands/ba...</td>\n",
       "      <td>1</td>\n",
       "    </tr>\n",
       "  </tbody>\n",
       "</table>\n",
       "</div>"
      ],
      "text/plain": [
       "                                                 url  surface\n",
       "0  https://airportdatabase.net/australia/badu-isl...        2\n",
       "1  https://airportdatabase.net/australia/horn-isl...        3\n",
       "2  https://airportdatabase.net/australia/kubin-ai...        2\n",
       "3  https://airportdatabase.net/solomon-islands/ba...        1"
      ]
     },
     "execution_count": 5,
     "metadata": {},
     "output_type": "execute_result"
    }
   ],
   "source": [
    "# create URL dataframe\n",
    "url_surface = pd.read_csv(url_data_df)\n",
    "url_surface"
   ]
  },
  {
   "cell_type": "code",
   "execution_count": 6,
   "id": "fa5a4fdc",
   "metadata": {},
   "outputs": [
    {
     "name": "stdout",
     "output_type": "stream",
     "text": [
      "0    2\n",
      "1    3\n",
      "2    2\n",
      "3    1\n",
      "Name: surface, dtype: int64\n"
     ]
    }
   ],
   "source": [
    "# Create list of runway surface data\n",
    "surface_df = (url_surface['surface'])\n",
    "print(surface_df)"
   ]
  },
  {
   "cell_type": "code",
   "execution_count": 8,
   "id": "c1828401",
   "metadata": {},
   "outputs": [
    {
     "name": "stderr",
     "output_type": "stream",
     "text": [
      "C:\\Users\\drchr\\anaconda3\\envs\\PythonData\\lib\\site-packages\\ipykernel_launcher.py:16: FutureWarning: The default value of regex will change from True to False in a future version.\n",
      "  app.launch_new_instance()\n",
      "C:\\Users\\drchr\\anaconda3\\envs\\PythonData\\lib\\site-packages\\ipykernel_launcher.py:91: SettingWithCopyWarning: \n",
      "A value is trying to be set on a copy of a slice from a DataFrame.\n",
      "Try using .loc[row_indexer,col_indexer] = value instead\n",
      "\n",
      "See the caveats in the documentation: https://pandas.pydata.org/pandas-docs/stable/user_guide/indexing.html#returning-a-view-versus-a-copy\n",
      "C:\\Users\\drchr\\anaconda3\\envs\\PythonData\\lib\\site-packages\\ipykernel_launcher.py:92: SettingWithCopyWarning: \n",
      "A value is trying to be set on a copy of a slice from a DataFrame.\n",
      "Try using .loc[row_indexer,col_indexer] = value instead\n",
      "\n",
      "See the caveats in the documentation: https://pandas.pydata.org/pandas-docs/stable/user_guide/indexing.html#returning-a-view-versus-a-copy\n",
      "C:\\Users\\drchr\\anaconda3\\envs\\PythonData\\lib\\site-packages\\pandas\\core\\frame.py:3641: SettingWithCopyWarning: \n",
      "A value is trying to be set on a copy of a slice from a DataFrame.\n",
      "Try using .loc[row_indexer,col_indexer] = value instead\n",
      "\n",
      "See the caveats in the documentation: https://pandas.pydata.org/pandas-docs/stable/user_guide/indexing.html#returning-a-view-versus-a-copy\n",
      "  self[k1] = value[k2]\n"
     ]
    },
    {
     "name": "stdout",
     "output_type": "stream",
     "text": [
      "    Col_1   Col_2  Col_3 length width\n",
      "15  12/30  2788x0   True             \n"
     ]
    },
    {
     "name": "stderr",
     "output_type": "stream",
     "text": [
      "C:\\Users\\drchr\\anaconda3\\envs\\PythonData\\lib\\site-packages\\ipykernel_launcher.py:16: FutureWarning: The default value of regex will change from True to False in a future version.\n",
      "  app.launch_new_instance()\n",
      "C:\\Users\\drchr\\anaconda3\\envs\\PythonData\\lib\\site-packages\\ipykernel_launcher.py:91: SettingWithCopyWarning: \n",
      "A value is trying to be set on a copy of a slice from a DataFrame.\n",
      "Try using .loc[row_indexer,col_indexer] = value instead\n",
      "\n",
      "See the caveats in the documentation: https://pandas.pydata.org/pandas-docs/stable/user_guide/indexing.html#returning-a-view-versus-a-copy\n",
      "C:\\Users\\drchr\\anaconda3\\envs\\PythonData\\lib\\site-packages\\ipykernel_launcher.py:92: SettingWithCopyWarning: \n",
      "A value is trying to be set on a copy of a slice from a DataFrame.\n",
      "Try using .loc[row_indexer,col_indexer] = value instead\n",
      "\n",
      "See the caveats in the documentation: https://pandas.pydata.org/pandas-docs/stable/user_guide/indexing.html#returning-a-view-versus-a-copy\n",
      "C:\\Users\\drchr\\anaconda3\\envs\\PythonData\\lib\\site-packages\\pandas\\core\\frame.py:3641: SettingWithCopyWarning: \n",
      "A value is trying to be set on a copy of a slice from a DataFrame.\n",
      "Try using .loc[row_indexer,col_indexer] = value instead\n",
      "\n",
      "See the caveats in the documentation: https://pandas.pydata.org/pandas-docs/stable/user_guide/indexing.html#returning-a-view-versus-a-copy\n",
      "  self[k1] = value[k2]\n"
     ]
    },
    {
     "name": "stdout",
     "output_type": "stream",
     "text": [
      "    Col_1    Col_2  Col_3 length width\n",
      "16  08/26  4557x98   True             \n",
      "17  14/32  4052x75   True             \n"
     ]
    },
    {
     "name": "stderr",
     "output_type": "stream",
     "text": [
      "C:\\Users\\drchr\\anaconda3\\envs\\PythonData\\lib\\site-packages\\ipykernel_launcher.py:16: FutureWarning: The default value of regex will change from True to False in a future version.\n",
      "  app.launch_new_instance()\n",
      "C:\\Users\\drchr\\anaconda3\\envs\\PythonData\\lib\\site-packages\\ipykernel_launcher.py:91: SettingWithCopyWarning: \n",
      "A value is trying to be set on a copy of a slice from a DataFrame.\n",
      "Try using .loc[row_indexer,col_indexer] = value instead\n",
      "\n",
      "See the caveats in the documentation: https://pandas.pydata.org/pandas-docs/stable/user_guide/indexing.html#returning-a-view-versus-a-copy\n",
      "C:\\Users\\drchr\\anaconda3\\envs\\PythonData\\lib\\site-packages\\ipykernel_launcher.py:92: SettingWithCopyWarning: \n",
      "A value is trying to be set on a copy of a slice from a DataFrame.\n",
      "Try using .loc[row_indexer,col_indexer] = value instead\n",
      "\n",
      "See the caveats in the documentation: https://pandas.pydata.org/pandas-docs/stable/user_guide/indexing.html#returning-a-view-versus-a-copy\n",
      "C:\\Users\\drchr\\anaconda3\\envs\\PythonData\\lib\\site-packages\\pandas\\core\\frame.py:3641: SettingWithCopyWarning: \n",
      "A value is trying to be set on a copy of a slice from a DataFrame.\n",
      "Try using .loc[row_indexer,col_indexer] = value instead\n",
      "\n",
      "See the caveats in the documentation: https://pandas.pydata.org/pandas-docs/stable/user_guide/indexing.html#returning-a-view-versus-a-copy\n",
      "  self[k1] = value[k2]\n"
     ]
    },
    {
     "name": "stdout",
     "output_type": "stream",
     "text": [
      "    Col_1    Col_2  Col_3 length width\n",
      "15  11/29  3281x60   True             \n",
      "Empty DataFrame\n",
      "Columns: [Col_1, Col_2, Col_3, length, width]\n",
      "Index: []\n"
     ]
    },
    {
     "name": "stderr",
     "output_type": "stream",
     "text": [
      "C:\\Users\\drchr\\anaconda3\\envs\\PythonData\\lib\\site-packages\\ipykernel_launcher.py:16: FutureWarning: The default value of regex will change from True to False in a future version.\n",
      "  app.launch_new_instance()\n"
     ]
    },
    {
     "ename": "ValueError",
     "evalue": "Columns must be same length as key",
     "output_type": "error",
     "traceback": [
      "\u001b[1;31m---------------------------------------------------------------------------\u001b[0m",
      "\u001b[1;31mValueError\u001b[0m                                Traceback (most recent call last)",
      "\u001b[1;32m~\\AppData\\Local\\Temp/ipykernel_21980/2523969099.py\u001b[0m in \u001b[0;36m<module>\u001b[1;34m\u001b[0m\n\u001b[0;32m     94\u001b[0m \u001b[1;33m\u001b[0m\u001b[0m\n\u001b[0;32m     95\u001b[0m     \u001b[1;31m# parse runway length/width variables\u001b[0m\u001b[1;33m\u001b[0m\u001b[1;33m\u001b[0m\u001b[1;33m\u001b[0m\u001b[0m\n\u001b[1;32m---> 96\u001b[1;33m     \u001b[0mrunway_C\u001b[0m\u001b[1;33m[\u001b[0m\u001b[1;33m[\u001b[0m\u001b[1;34m'length'\u001b[0m\u001b[1;33m,\u001b[0m \u001b[1;34m'width'\u001b[0m\u001b[1;33m]\u001b[0m\u001b[1;33m]\u001b[0m \u001b[1;33m=\u001b[0m \u001b[0mrunway_C\u001b[0m\u001b[1;33m[\u001b[0m\u001b[1;34m'Col_2'\u001b[0m\u001b[1;33m]\u001b[0m\u001b[1;33m.\u001b[0m\u001b[0mstr\u001b[0m\u001b[1;33m.\u001b[0m\u001b[0msplit\u001b[0m\u001b[1;33m(\u001b[0m\u001b[1;34m'x'\u001b[0m\u001b[1;33m,\u001b[0m \u001b[0mexpand\u001b[0m\u001b[1;33m=\u001b[0m\u001b[1;32mTrue\u001b[0m\u001b[1;33m)\u001b[0m\u001b[1;33m\u001b[0m\u001b[1;33m\u001b[0m\u001b[0m\n\u001b[0m\u001b[0;32m     97\u001b[0m \u001b[1;33m\u001b[0m\u001b[0m\n\u001b[0;32m     98\u001b[0m     \u001b[1;31m# create runway Dataframe\u001b[0m\u001b[1;33m\u001b[0m\u001b[1;33m\u001b[0m\u001b[1;33m\u001b[0m\u001b[0m\n",
      "\u001b[1;32m~\\anaconda3\\envs\\PythonData\\lib\\site-packages\\pandas\\core\\frame.py\u001b[0m in \u001b[0;36m__setitem__\u001b[1;34m(self, key, value)\u001b[0m\n\u001b[0;32m   3598\u001b[0m             \u001b[0mself\u001b[0m\u001b[1;33m.\u001b[0m\u001b[0m_setitem_frame\u001b[0m\u001b[1;33m(\u001b[0m\u001b[0mkey\u001b[0m\u001b[1;33m,\u001b[0m \u001b[0mvalue\u001b[0m\u001b[1;33m)\u001b[0m\u001b[1;33m\u001b[0m\u001b[1;33m\u001b[0m\u001b[0m\n\u001b[0;32m   3599\u001b[0m         \u001b[1;32melif\u001b[0m \u001b[0misinstance\u001b[0m\u001b[1;33m(\u001b[0m\u001b[0mkey\u001b[0m\u001b[1;33m,\u001b[0m \u001b[1;33m(\u001b[0m\u001b[0mSeries\u001b[0m\u001b[1;33m,\u001b[0m \u001b[0mnp\u001b[0m\u001b[1;33m.\u001b[0m\u001b[0mndarray\u001b[0m\u001b[1;33m,\u001b[0m \u001b[0mlist\u001b[0m\u001b[1;33m,\u001b[0m \u001b[0mIndex\u001b[0m\u001b[1;33m)\u001b[0m\u001b[1;33m)\u001b[0m\u001b[1;33m:\u001b[0m\u001b[1;33m\u001b[0m\u001b[1;33m\u001b[0m\u001b[0m\n\u001b[1;32m-> 3600\u001b[1;33m             \u001b[0mself\u001b[0m\u001b[1;33m.\u001b[0m\u001b[0m_setitem_array\u001b[0m\u001b[1;33m(\u001b[0m\u001b[0mkey\u001b[0m\u001b[1;33m,\u001b[0m \u001b[0mvalue\u001b[0m\u001b[1;33m)\u001b[0m\u001b[1;33m\u001b[0m\u001b[1;33m\u001b[0m\u001b[0m\n\u001b[0m\u001b[0;32m   3601\u001b[0m         \u001b[1;32melif\u001b[0m \u001b[0misinstance\u001b[0m\u001b[1;33m(\u001b[0m\u001b[0mvalue\u001b[0m\u001b[1;33m,\u001b[0m \u001b[0mDataFrame\u001b[0m\u001b[1;33m)\u001b[0m\u001b[1;33m:\u001b[0m\u001b[1;33m\u001b[0m\u001b[1;33m\u001b[0m\u001b[0m\n\u001b[0;32m   3602\u001b[0m             \u001b[0mself\u001b[0m\u001b[1;33m.\u001b[0m\u001b[0m_set_item_frame_value\u001b[0m\u001b[1;33m(\u001b[0m\u001b[0mkey\u001b[0m\u001b[1;33m,\u001b[0m \u001b[0mvalue\u001b[0m\u001b[1;33m)\u001b[0m\u001b[1;33m\u001b[0m\u001b[1;33m\u001b[0m\u001b[0m\n",
      "\u001b[1;32m~\\anaconda3\\envs\\PythonData\\lib\\site-packages\\pandas\\core\\frame.py\u001b[0m in \u001b[0;36m_setitem_array\u001b[1;34m(self, key, value)\u001b[0m\n\u001b[0;32m   3637\u001b[0m         \u001b[1;32melse\u001b[0m\u001b[1;33m:\u001b[0m\u001b[1;33m\u001b[0m\u001b[1;33m\u001b[0m\u001b[0m\n\u001b[0;32m   3638\u001b[0m             \u001b[1;32mif\u001b[0m \u001b[0misinstance\u001b[0m\u001b[1;33m(\u001b[0m\u001b[0mvalue\u001b[0m\u001b[1;33m,\u001b[0m \u001b[0mDataFrame\u001b[0m\u001b[1;33m)\u001b[0m\u001b[1;33m:\u001b[0m\u001b[1;33m\u001b[0m\u001b[1;33m\u001b[0m\u001b[0m\n\u001b[1;32m-> 3639\u001b[1;33m                 \u001b[0mcheck_key_length\u001b[0m\u001b[1;33m(\u001b[0m\u001b[0mself\u001b[0m\u001b[1;33m.\u001b[0m\u001b[0mcolumns\u001b[0m\u001b[1;33m,\u001b[0m \u001b[0mkey\u001b[0m\u001b[1;33m,\u001b[0m \u001b[0mvalue\u001b[0m\u001b[1;33m)\u001b[0m\u001b[1;33m\u001b[0m\u001b[1;33m\u001b[0m\u001b[0m\n\u001b[0m\u001b[0;32m   3640\u001b[0m                 \u001b[1;32mfor\u001b[0m \u001b[0mk1\u001b[0m\u001b[1;33m,\u001b[0m \u001b[0mk2\u001b[0m \u001b[1;32min\u001b[0m \u001b[0mzip\u001b[0m\u001b[1;33m(\u001b[0m\u001b[0mkey\u001b[0m\u001b[1;33m,\u001b[0m \u001b[0mvalue\u001b[0m\u001b[1;33m.\u001b[0m\u001b[0mcolumns\u001b[0m\u001b[1;33m)\u001b[0m\u001b[1;33m:\u001b[0m\u001b[1;33m\u001b[0m\u001b[1;33m\u001b[0m\u001b[0m\n\u001b[0;32m   3641\u001b[0m                     \u001b[0mself\u001b[0m\u001b[1;33m[\u001b[0m\u001b[0mk1\u001b[0m\u001b[1;33m]\u001b[0m \u001b[1;33m=\u001b[0m \u001b[0mvalue\u001b[0m\u001b[1;33m[\u001b[0m\u001b[0mk2\u001b[0m\u001b[1;33m]\u001b[0m\u001b[1;33m\u001b[0m\u001b[1;33m\u001b[0m\u001b[0m\n",
      "\u001b[1;32m~\\anaconda3\\envs\\PythonData\\lib\\site-packages\\pandas\\core\\indexers.py\u001b[0m in \u001b[0;36mcheck_key_length\u001b[1;34m(columns, key, value)\u001b[0m\n\u001b[0;32m    426\u001b[0m     \u001b[1;32mif\u001b[0m \u001b[0mcolumns\u001b[0m\u001b[1;33m.\u001b[0m\u001b[0mis_unique\u001b[0m\u001b[1;33m:\u001b[0m\u001b[1;33m\u001b[0m\u001b[1;33m\u001b[0m\u001b[0m\n\u001b[0;32m    427\u001b[0m         \u001b[1;32mif\u001b[0m \u001b[0mlen\u001b[0m\u001b[1;33m(\u001b[0m\u001b[0mvalue\u001b[0m\u001b[1;33m.\u001b[0m\u001b[0mcolumns\u001b[0m\u001b[1;33m)\u001b[0m \u001b[1;33m!=\u001b[0m \u001b[0mlen\u001b[0m\u001b[1;33m(\u001b[0m\u001b[0mkey\u001b[0m\u001b[1;33m)\u001b[0m\u001b[1;33m:\u001b[0m\u001b[1;33m\u001b[0m\u001b[1;33m\u001b[0m\u001b[0m\n\u001b[1;32m--> 428\u001b[1;33m             \u001b[1;32mraise\u001b[0m \u001b[0mValueError\u001b[0m\u001b[1;33m(\u001b[0m\u001b[1;34m\"Columns must be same length as key\"\u001b[0m\u001b[1;33m)\u001b[0m\u001b[1;33m\u001b[0m\u001b[1;33m\u001b[0m\u001b[0m\n\u001b[0m\u001b[0;32m    429\u001b[0m     \u001b[1;32melse\u001b[0m\u001b[1;33m:\u001b[0m\u001b[1;33m\u001b[0m\u001b[1;33m\u001b[0m\u001b[0m\n\u001b[0;32m    430\u001b[0m         \u001b[1;31m# Missing keys in columns are represented as -1\u001b[0m\u001b[1;33m\u001b[0m\u001b[1;33m\u001b[0m\u001b[1;33m\u001b[0m\u001b[0m\n",
      "\u001b[1;31mValueError\u001b[0m: Columns must be same length as key"
     ]
    }
   ],
   "source": [
    "# Create URL for HTML table\n",
    "for index, row in url_surface.iterrows():\n",
    "    url = row['url']\n",
    "   \n",
    "    # Read HTML table\n",
    "    df1 = pd.read_html(url)[0]\n",
    "\n",
    "    # Rename columns for ease of reading\n",
    "    df1.columns = ['Col_1', 'Col_2']\n",
    "\n",
    "    # Create Name variable\n",
    "    df1.loc[0, 'Col_1'] = 'name'\n",
    "    df1['Col_2'] = df1['Col_2'].str.replace(' details and information', '')\n",
    "    \n",
    "    # Clean text; remove \"ft.\"\n",
    "    df1['Col_2'] = df1['Col_2'].str.replace(' ft.', '')\n",
    "\n",
    "    # Clean text; remove colons\n",
    "    df1['Col_1'] = df1['Col_1'].str.replace(':', '')\n",
    "\n",
    "    # Clean text; remove \"iso\"\n",
    "    df1['Col_1'] = df1['Col_1'].str.replace('iso ', '')\n",
    "\n",
    "    # Clean text; remove \"ISO\"\n",
    "    df1['Col_1'] = df1['Col_1'].str.replace('ISO ', '')\n",
    "\n",
    "    # Clean text; remove \" Code\"\n",
    "    df1['Col_1'] = df1['Col_1'].str.replace(' Code', '_Code')\n",
    "\n",
    "    # Remove null row\n",
    "    df1 = df1.fillna(0)\n",
    "\n",
    "    # create name variable\n",
    "    name = df1.loc[df1['Col_1'].str.contains('name', na=False)]\n",
    "    name2 = name.iloc[0]['Col_2']\n",
    "    \n",
    "    # create ID variable\n",
    "    ID = df1.loc[df1['Col_1'].str.contains('ident', na=False)]\n",
    "    ID2 = ID.iloc[0]['Col_2']\n",
    "\n",
    "    # create latitude variable\n",
    "    latitude = df1.loc[df1['Col_1'].str.contains('latitude', na=False)]\n",
    "    latitude2 = latitude.iloc[0]['Col_2']\n",
    "\n",
    "    # create type variable\n",
    "    af_type = df1.loc[df1['Col_1'].str.contains('type', na=False)]\n",
    "    af_type2 = af_type.iloc[0]['Col_2']\n",
    "\n",
    "    # create longitude variable\n",
    "    longitude = df1.loc[df1['Col_1'].str.contains('longitude', na=False)]\n",
    "    longitude2 = longitude.iloc[0]['Col_2']\n",
    "\n",
    "    # create elevation variable\n",
    "    elevation = df1.loc[df1['Col_1'].str.contains('elevation', na=False)]\n",
    "    elevation2 = elevation.iloc[0]['Col_2']\n",
    "\n",
    "    # create continent variable\n",
    "    continent = df1.loc[df1['Col_1'].str.contains('continent', na=False)]\n",
    "    continent2 = continent.iloc[0]['Col_2']\n",
    "\n",
    "    # create country variable\n",
    "    country = df1.loc[df1['Col_1'].str.contains('country', na=False)]\n",
    "    country2 = country.iloc[0]['Col_2']\n",
    "\n",
    "    # create region variable\n",
    "    region = df1.loc[df1['Col_1'].str.contains('Region', na=False)]\n",
    "    region2 = region.iloc[0]['Col_2']\n",
    "\n",
    "    # create GPS_code variable\n",
    "    GPS_Code = df1.loc[df1['Col_1'].str.contains('GPS_Code', na=False)]\n",
    "    GPS_Code2 = GPS_Code.iloc[0]['Col_2']\n",
    "\n",
    "    # create IATA_code variable\n",
    "    IATA_Code = df1.loc[df1['Col_1'].str.contains('IATA_Code', na=False)]\n",
    "    IATA_Code2 = IATA_Code.iloc[0]['Col_2']\n",
    "\n",
    "    \n",
    "    # find runway data rows\n",
    "    pattern = '[0-9]x[0-9]'\n",
    "    runway = df1['Col_2'].str.contains(pattern, na=False)\n",
    "\n",
    "    # tag runway data rows in table w/\"True\"\n",
    "    runway_B = pd.concat([df1, runway], axis=1)\n",
    "\n",
    "    # Assign column name to runway data tag\n",
    "    runway_B.columns = ['Col_1', 'Col_2', 'Col_3']\n",
    "\n",
    "    # Select runway data rows\n",
    "    runway_C = runway_B.loc[runway_B['Col_3'] == True]\n",
    "        if runway_C.shape[0] == 0:\n",
    "        runway_L = 0\n",
    "        runway_W = 0\n",
    "    \n",
    "    runway_C['length'] = ''\n",
    "    runway_C['width'] = ''\n",
    "    print(runway_C)\n",
    "        \n",
    "    # parse runway length/width variables\n",
    "    runway_C[['length', 'width']] = runway_C['Col_2'].str.split('x', expand=True)\n",
    "\n",
    "    # create runway Dataframe\n",
    "    runway_df = pd.DataFrame(runway_C, columns=['Col_1', 'Col_2', 'Col_3', 'length', 'width'])\n",
    "\n",
    "    # Convert runway length/width to integer datatype\n",
    "    runway_df['length'] = runway_df['length'].astype('int')\n",
    "    runway_df['width'] = runway_df['width'].astype('int')\n",
    "\n",
    "    # Create runway length/width totals\n",
    "    runway_df.loc['runway_total']= runway_df.sum(numeric_only=True, axis=0)\n",
    "\n",
    "    # Create total runway length variable\n",
    "    runway_L = runway_df.loc['runway_total']['length']\n",
    "\n",
    "    # Create total runway width variable\n",
    "    runway_W = runway_df.loc['runway_total']['width']\n",
    "\n",
    "\n",
    "    # count frequencies and navaids\n",
    "    freq_df = df1.loc[df1['Col_2'].str.contains(\"Mhz\", na=False)]\n",
    "\n",
    "    # create freq_count variable\n",
    "    freq_count = len(freq_df)\n",
    "    \n",
    "    # Identify airlines data row\n",
    "    pattern = ' , '\n",
    "    airlines = df1['Col_2'].str.contains(pattern, na=False)\n",
    "\n",
    "    # tag airline data rows in table w/\"True\"\n",
    "    airlines_B = pd.concat([df1, airlines], axis=1)\n",
    "\n",
    "    # Assign column name to airline data tag\n",
    "    airlines_B.columns = ['Col_1', 'Col_2', 'Col_3']\n",
    "\n",
    "    # Select airline data row\n",
    "    airlines_C = airlines_B.loc[airlines_B['Col_3'] == True]\n",
    "\n",
    "    # Create airlines Dataframe\n",
    "    airlines_df = pd.DataFrame(airlines_C, columns=['Col_1', 'Col_2', 'Col_3'])\n",
    "\n",
    "    # Parse airlines data into rows\n",
    "    airlines_df2 = (airlines_df.set_index(['Col_3'])\n",
    "       .apply(lambda x: x.str.split(',').explode())\n",
    "       .reset_index())\n",
    "\n",
    "    # Tag row with null data\n",
    "    airlines_df2['Col_1'].replace('', np.nan, inplace=True)\n",
    "\n",
    "    # Delete row with null data\n",
    "    airlines_df2.dropna(subset=['Col_1'], inplace=True)\n",
    "\n",
    "    # Create airline_count variable\n",
    "    airline_count = len(airlines_df2)\n",
    "\n",
    "    # Write data to temp Dataframe\n",
    "    temp_df.at[0, 'ID'] = ID2\n",
    "    temp_df.at[0, 'GPS_Code'] = GPS_Code2\n",
    "    temp_df.at[0, 'IATA_Code'] = IATA_Code2\n",
    "    temp_df.at[0, 'name'] = name2\n",
    "    temp_df.at[0, 'continent'] = continent2\n",
    "    temp_df.at[0, 'country'] = country2\n",
    "    temp_df.at[0, 'region'] = region2\n",
    "    temp_df.at[0, 'af_type'] = af_type2\n",
    "    temp_df.at[0, 'latitude'] = latitude2\n",
    "    temp_df.at[0, 'longitude'] = longitude2\n",
    "    temp_df.at[0, 'elevation'] = elevation2\n",
    "    temp_df.at[0, 'runway_L'] = runway_L\n",
    "    temp_df.at[0, 'runway_W'] = runway_W\n",
    "    temp_df.at[0, 'freq_count'] = freq_count\n",
    "    temp_df.at[0, 'airline_count'] = airline_count\n",
    "\n",
    "    # Convert temp Dataframe to correct data types\n",
    "    temp_df = temp_df.astype({'latitude':'float', 'longitude':'float', 'elevation':'int', 'runway_L':'float', 'runway_W':'float', 'freq_count':'int', 'airline_count':'int'})\n",
    "\n",
    "    # Append temp Dataframe to AF1\n",
    "    AF1 = AF1.append(temp_df, ignore_index = True)\n",
    "\n"
   ]
  },
  {
   "cell_type": "code",
   "execution_count": null,
   "id": "5642d4a2",
   "metadata": {},
   "outputs": [],
   "source": [
    "# Show AF1\n",
    "\n",
    "AF1"
   ]
  },
  {
   "cell_type": "code",
   "execution_count": null,
   "id": "8df29f3c",
   "metadata": {},
   "outputs": [],
   "source": [
    "# Save AF1 to .csv\n",
    "\n"
   ]
  }
 ],
 "metadata": {
  "kernelspec": {
   "display_name": "PythonData",
   "language": "python",
   "name": "pythondata"
  },
  "language_info": {
   "codemirror_mode": {
    "name": "ipython",
    "version": 3
   },
   "file_extension": ".py",
   "mimetype": "text/x-python",
   "name": "python",
   "nbconvert_exporter": "python",
   "pygments_lexer": "ipython3",
   "version": "3.7.11"
  }
 },
 "nbformat": 4,
 "nbformat_minor": 5
}
